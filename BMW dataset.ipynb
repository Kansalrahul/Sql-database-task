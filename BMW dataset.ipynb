{
 "cells": [
  {
   "cell_type": "code",
   "execution_count": 1,
   "id": "78ea5e1a",
   "metadata": {},
   "outputs": [],
   "source": [
    "#model,year,price,transmission,mileage,fuelType,tax,mpg,engineSize"
   ]
  },
  {
   "cell_type": "code",
   "execution_count": 2,
   "id": "88ef6b22",
   "metadata": {},
   "outputs": [],
   "source": [
    "import mysql.connector as conn"
   ]
  },
  {
   "cell_type": "code",
   "execution_count": 4,
   "id": "52fe7c04",
   "metadata": {},
   "outputs": [],
   "source": [
    "mydb=conn.connect(host=\"localhost\",user=\"root\",passwd=\"Kansal1902$\")"
   ]
  },
  {
   "cell_type": "code",
   "execution_count": 5,
   "id": "842b32f6",
   "metadata": {},
   "outputs": [],
   "source": [
    "cursor=mydb.cursor()"
   ]
  },
  {
   "cell_type": "code",
   "execution_count": 6,
   "id": "8bfe93cf",
   "metadata": {},
   "outputs": [],
   "source": [
    "cursor.execute('create database bmw_data')"
   ]
  },
  {
   "cell_type": "code",
   "execution_count": null,
   "id": "909d1e28",
   "metadata": {},
   "outputs": [],
   "source": [
    "cursor.execute('create table bmw_data.car (model VARCHAR(15),year INT(10),price INT(10),transmission VARCHAR(15),mileage INT(15),fuelType VARCHAR(15),tax INT(10),mpg float(10),engineSize float')"
   ]
  },
  {
   "cell_type": "code",
   "execution_count": 35,
   "id": "baecb900",
   "metadata": {},
   "outputs": [],
   "source": [
    "cursor.execute('DROP table bmw_data.car')"
   ]
  },
  {
   "cell_type": "code",
   "execution_count": 37,
   "id": "b8767839",
   "metadata": {},
   "outputs": [],
   "source": [
    "cursor.execute('create table bmw_data.car (model VARCHAR(15),year VARCHAR(10),price VARCHAR(10),transmission VARCHAR(15),mileage VARCHAR(15),fuelType VARCHAR(15),tax VARCHAR(10),mpg VARCHAR(10),engineSize VARCHAR(10))')"
   ]
  },
  {
   "cell_type": "code",
   "execution_count": 15,
   "id": "38b47af8",
   "metadata": {},
   "outputs": [],
   "source": [
    "file =open('Downloads/bmw.csv')\n",
    "\n"
   ]
  },
  {
   "cell_type": "code",
   "execution_count": null,
   "id": "3f54724b",
   "metadata": {},
   "outputs": [],
   "source": []
  },
  {
   "cell_type": "code",
   "execution_count": 39,
   "id": "fdb363b2",
   "metadata": {},
   "outputs": [],
   "source": [
    "import csv\n",
    "with open ('Downloads/bmw.csv','r') as b:\n",
    "    bmw_car=csv.reader(b,delimiter='\\n')\n",
    "    for i in bmw_car:\n",
    "        cursor.execute('insert into bmw_data.car values(%s,%s,%s,%s,%s,%s,%s,%s,%s)',i[0].split(','))"
   ]
  },
  {
   "cell_type": "code",
   "execution_count": 40,
   "id": "475f095d",
   "metadata": {},
   "outputs": [],
   "source": [
    "mydb.commit()"
   ]
  },
  {
   "cell_type": "code",
   "execution_count": 29,
   "id": "76558cd2",
   "metadata": {},
   "outputs": [
    {
     "data": {
      "text/plain": [
       "str"
      ]
     },
     "execution_count": 29,
     "metadata": {},
     "output_type": "execute_result"
    }
   ],
   "source": [
    "type(i[0])"
   ]
  },
  {
   "cell_type": "code",
   "execution_count": null,
   "id": "7dd63e79",
   "metadata": {},
   "outputs": [],
   "source": []
  }
 ],
 "metadata": {
  "kernelspec": {
   "display_name": "Python 3 (ipykernel)",
   "language": "python",
   "name": "python3"
  },
  "language_info": {
   "codemirror_mode": {
    "name": "ipython",
    "version": 3
   },
   "file_extension": ".py",
   "mimetype": "text/x-python",
   "name": "python",
   "nbconvert_exporter": "python",
   "pygments_lexer": "ipython3",
   "version": "3.9.7"
  }
 },
 "nbformat": 4,
 "nbformat_minor": 5
}
