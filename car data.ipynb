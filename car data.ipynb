{
 "cells": [
  {
   "cell_type": "code",
   "execution_count": 4,
   "id": "d3eff94d",
   "metadata": {},
   "outputs": [],
   "source": [
    "import mysql.connector as conn"
   ]
  },
  {
   "cell_type": "code",
   "execution_count": 5,
   "id": "8125ab6b",
   "metadata": {},
   "outputs": [],
   "source": [
    "mydb1=conn.connect(host=\"localhost\",user='root',passwd='Kansal1902$')"
   ]
  },
  {
   "cell_type": "code",
   "execution_count": 6,
   "id": "59d4da40",
   "metadata": {},
   "outputs": [],
   "source": [
    "cursor=mydb1.cursor()\n"
   ]
  },
  {
   "cell_type": "code",
   "execution_count": 20,
   "id": "0eaed615",
   "metadata": {},
   "outputs": [],
   "source": [
    "cursor.execute('use testrahulcoder')"
   ]
  },
  {
   "cell_type": "code",
   "execution_count": 21,
   "id": "07b469bd",
   "metadata": {},
   "outputs": [],
   "source": [
    "cursor.execute('show tables')"
   ]
  },
  {
   "cell_type": "code",
   "execution_count": 22,
   "id": "a77d172b",
   "metadata": {},
   "outputs": [
    {
     "data": {
      "text/plain": [
       "[('coding',), ('glassdata',)]"
      ]
     },
     "execution_count": 22,
     "metadata": {},
     "output_type": "execute_result"
    }
   ],
   "source": [
    "cursor.fetchall()"
   ]
  },
  {
   "cell_type": "code",
   "execution_count": null,
   "id": "70f5a5c5",
   "metadata": {},
   "outputs": [],
   "source": [
    "cursor.execute('create database wannacoder')"
   ]
  },
  {
   "cell_type": "code",
   "execution_count": 24,
   "id": "1672fe3d",
   "metadata": {},
   "outputs": [],
   "source": [
    "cursor.execute('show databases')\n"
   ]
  },
  {
   "cell_type": "code",
   "execution_count": 25,
   "id": "c82440b9",
   "metadata": {},
   "outputs": [
    {
     "data": {
      "text/plain": [
       "[('information_schema',),\n",
       " ('mysql',),\n",
       " ('performance_schema',),\n",
       " ('sys',),\n",
       " ('testrahulcoder',),\n",
       " ('wannacoder',)]"
      ]
     },
     "execution_count": 25,
     "metadata": {},
     "output_type": "execute_result"
    }
   ],
   "source": [
    "cursor.fetchall()"
   ]
  },
  {
   "cell_type": "code",
   "execution_count": null,
   "id": "d3d1446b",
   "metadata": {},
   "outputs": [],
   "source": [
    "#Car_Name,Year,Selling_Price,Present_Price,Kms_Driven,Fuel_Type,Seller_Type,Transmission,Owner"
   ]
  },
  {
   "cell_type": "code",
   "execution_count": 53,
   "id": "9c9361be",
   "metadata": {},
   "outputs": [
    {
     "ename": "ProgrammingError",
     "evalue": "1050 (42S01): Table 'car_data' already exists",
     "output_type": "error",
     "traceback": [
      "\u001b[1;31m---------------------------------------------------------------------------\u001b[0m",
      "\u001b[1;31mMySQLInterfaceError\u001b[0m                       Traceback (most recent call last)",
      "\u001b[1;32m~\\anaconda3\\lib\\site-packages\\mysql\\connector\\connection_cext.py\u001b[0m in \u001b[0;36mcmd_query\u001b[1;34m(self, query, raw, buffered, raw_as_string)\u001b[0m\n\u001b[0;32m    522\u001b[0m                 \u001b[0mquery\u001b[0m \u001b[1;33m=\u001b[0m \u001b[0mquery\u001b[0m\u001b[1;33m.\u001b[0m\u001b[0mencode\u001b[0m\u001b[1;33m(\u001b[0m\u001b[1;34m'utf-8'\u001b[0m\u001b[1;33m)\u001b[0m\u001b[1;33m\u001b[0m\u001b[1;33m\u001b[0m\u001b[0m\n\u001b[1;32m--> 523\u001b[1;33m             self._cmysql.query(query,\n\u001b[0m\u001b[0;32m    524\u001b[0m                                \u001b[0mraw\u001b[0m\u001b[1;33m=\u001b[0m\u001b[0mraw\u001b[0m\u001b[1;33m,\u001b[0m \u001b[0mbuffered\u001b[0m\u001b[1;33m=\u001b[0m\u001b[0mbuffered\u001b[0m\u001b[1;33m,\u001b[0m\u001b[1;33m\u001b[0m\u001b[1;33m\u001b[0m\u001b[0m\n",
      "\u001b[1;31mMySQLInterfaceError\u001b[0m: Table 'car_data' already exists",
      "\nDuring handling of the above exception, another exception occurred:\n",
      "\u001b[1;31mProgrammingError\u001b[0m                          Traceback (most recent call last)",
      "\u001b[1;32m~\\AppData\\Local\\Temp/ipykernel_4580/713083371.py\u001b[0m in \u001b[0;36m<module>\u001b[1;34m\u001b[0m\n\u001b[1;32m----> 1\u001b[1;33m \u001b[0mcursor\u001b[0m\u001b[1;33m.\u001b[0m\u001b[0mexecute\u001b[0m\u001b[1;33m(\u001b[0m\u001b[1;34m'create table wannacoder.car_data(Car_name VARCHAR(100),Year INT(10),Selling_Price float(10),Present_Price float(10),Kms_Driven INT(10),Fuel_Type VARCHAR(10),Seller_Type VARCHAR(10),Transmission VARCHAR(10),Owner INT(10))'\u001b[0m\u001b[1;33m)\u001b[0m\u001b[1;33m\u001b[0m\u001b[1;33m\u001b[0m\u001b[0m\n\u001b[0m",
      "\u001b[1;32m~\\anaconda3\\lib\\site-packages\\mysql\\connector\\cursor_cext.py\u001b[0m in \u001b[0;36mexecute\u001b[1;34m(self, operation, params, multi)\u001b[0m\n\u001b[0;32m    267\u001b[0m \u001b[1;33m\u001b[0m\u001b[0m\n\u001b[0;32m    268\u001b[0m         \u001b[1;32mtry\u001b[0m\u001b[1;33m:\u001b[0m\u001b[1;33m\u001b[0m\u001b[1;33m\u001b[0m\u001b[0m\n\u001b[1;32m--> 269\u001b[1;33m             result = self._cnx.cmd_query(stmt, raw=self._raw,\n\u001b[0m\u001b[0;32m    270\u001b[0m                                          \u001b[0mbuffered\u001b[0m\u001b[1;33m=\u001b[0m\u001b[0mself\u001b[0m\u001b[1;33m.\u001b[0m\u001b[0m_buffered\u001b[0m\u001b[1;33m,\u001b[0m\u001b[1;33m\u001b[0m\u001b[1;33m\u001b[0m\u001b[0m\n\u001b[0;32m    271\u001b[0m                                          raw_as_string=self._raw_as_string)\n",
      "\u001b[1;32m~\\anaconda3\\lib\\site-packages\\mysql\\connector\\connection_cext.py\u001b[0m in \u001b[0;36mcmd_query\u001b[1;34m(self, query, raw, buffered, raw_as_string)\u001b[0m\n\u001b[0;32m    526\u001b[0m                                query_attrs=self._query_attrs)\n\u001b[0;32m    527\u001b[0m         \u001b[1;32mexcept\u001b[0m \u001b[0mMySQLInterfaceError\u001b[0m \u001b[1;32mas\u001b[0m \u001b[0mexc\u001b[0m\u001b[1;33m:\u001b[0m\u001b[1;33m\u001b[0m\u001b[1;33m\u001b[0m\u001b[0m\n\u001b[1;32m--> 528\u001b[1;33m             raise errors.get_mysql_exception(exc.errno, msg=exc.msg,\n\u001b[0m\u001b[0;32m    529\u001b[0m                                              sqlstate=exc.sqlstate)\n\u001b[0;32m    530\u001b[0m         \u001b[1;32mexcept\u001b[0m \u001b[0mAttributeError\u001b[0m\u001b[1;33m:\u001b[0m\u001b[1;33m\u001b[0m\u001b[1;33m\u001b[0m\u001b[0m\n",
      "\u001b[1;31mProgrammingError\u001b[0m: 1050 (42S01): Table 'car_data' already exists"
     ]
    }
   ],
   "source": [
    "cursor.execute('create table wannacoder.car_data(Car_name VARCHAR(10),Year INT(10),Selling_Price float(10),Present_Price float(10),Kms_Driven INT(10),Fuel_Type VARCHAR(10),Seller_Type VARCHAR(10),Transmission VARCHAR(10),Owner INT(10))')"
   ]
  },
  {
   "cell_type": "code",
   "execution_count": 42,
   "id": "f95ff2a4",
   "metadata": {},
   "outputs": [],
   "source": [
    "cursor.execute(\"insert into wannacoder.car_data value('ritz',2014,3.35,5.59,27000,'Petrol','Dealer','Manual',0)\")"
   ]
  },
  {
   "cell_type": "code",
   "execution_count": 43,
   "id": "b1eb18af",
   "metadata": {},
   "outputs": [],
   "source": [
    "mydb1.commit()"
   ]
  },
  {
   "cell_type": "code",
   "execution_count": 14,
   "id": "26a66c0c",
   "metadata": {},
   "outputs": [],
   "source": [
    "cursor.execute('use wannacoder')"
   ]
  },
  {
   "cell_type": "code",
   "execution_count": 15,
   "id": "ea32a17c",
   "metadata": {},
   "outputs": [],
   "source": [
    "cursor.execute('show tables')"
   ]
  },
  {
   "cell_type": "code",
   "execution_count": 16,
   "id": "af4c67bc",
   "metadata": {},
   "outputs": [
    {
     "data": {
      "text/plain": [
       "[('car_data',)]"
      ]
     },
     "execution_count": 16,
     "metadata": {},
     "output_type": "execute_result"
    }
   ],
   "source": [
    "cursor.fetchall()"
   ]
  },
  {
   "cell_type": "code",
   "execution_count": 21,
   "id": "243f4119",
   "metadata": {},
   "outputs": [],
   "source": [
    "file=open('Downloads/car data.csv','r')\n",
    "\n"
   ]
  },
  {
   "cell_type": "code",
   "execution_count": 45,
   "id": "dc5120ca",
   "metadata": {
    "scrolled": false
   },
   "outputs": [],
   "source": [
    "import csv\n",
    "# with open('Downloads/car data.csv','r') as c:\n",
    "#     car_data=csv.reader(c,delimiter='\\n')\n",
    "#     for i in car_data:\n",
    "#         print(i)"
   ]
  },
  {
   "cell_type": "code",
   "execution_count": 54,
   "id": "6a190425",
   "metadata": {},
   "outputs": [
    {
     "name": "stdout",
     "output_type": "stream",
     "text": [
      "ritz,2014,3.35,5.59,27000,Petrol,Dealer,Manual,0\n",
      "car_datavalues1(ritz,2014,3.35,5.59,27000,Petrol,Dealer,Manual,0)\n",
      "sx4,2013,4.75,9.54,43000,Diesel,Dealer,Manual,0\n",
      "car_datavalues1(sx4,2013,4.75,9.54,43000,Diesel,Dealer,Manual,0)\n",
      "ciaz,2017,7.25,9.85,6900,Petrol,Dealer,Manual,0\n",
      "car_datavalues1(ciaz,2017,7.25,9.85,6900,Petrol,Dealer,Manual,0)\n",
      "wagon r,2011,2.85,4.15,5200,Petrol,Dealer,Manual,0\n",
      "car_datavalues1(wagon r,2011,2.85,4.15,5200,Petrol,Dealer,Manual,0)\n",
      "swift,2014,4.6,6.87,42450,Diesel,Dealer,Manual,0\n",
      "car_datavalues1(swift,2014,4.6,6.87,42450,Diesel,Dealer,Manual,0)\n",
      "vitara brezza,2018,9.25,9.83,2071,Diesel,Dealer,Manual,0\n",
      "car_datavalues1(vitara brezza,2018,9.25,9.83,2071,Diesel,Dealer,Manual,0)\n"
     ]
    },
    {
     "ename": "DataError",
     "evalue": "1406 (22001): Data too long for column 'Car_name' at row 1",
     "output_type": "error",
     "traceback": [
      "\u001b[1;31m---------------------------------------------------------------------------\u001b[0m",
      "\u001b[1;31mMySQLInterfaceError\u001b[0m                       Traceback (most recent call last)",
      "\u001b[1;32m~\\anaconda3\\lib\\site-packages\\mysql\\connector\\connection_cext.py\u001b[0m in \u001b[0;36mcmd_query\u001b[1;34m(self, query, raw, buffered, raw_as_string)\u001b[0m\n\u001b[0;32m    522\u001b[0m                 \u001b[0mquery\u001b[0m \u001b[1;33m=\u001b[0m \u001b[0mquery\u001b[0m\u001b[1;33m.\u001b[0m\u001b[0mencode\u001b[0m\u001b[1;33m(\u001b[0m\u001b[1;34m'utf-8'\u001b[0m\u001b[1;33m)\u001b[0m\u001b[1;33m\u001b[0m\u001b[1;33m\u001b[0m\u001b[0m\n\u001b[1;32m--> 523\u001b[1;33m             self._cmysql.query(query,\n\u001b[0m\u001b[0;32m    524\u001b[0m                                \u001b[0mraw\u001b[0m\u001b[1;33m=\u001b[0m\u001b[0mraw\u001b[0m\u001b[1;33m,\u001b[0m \u001b[0mbuffered\u001b[0m\u001b[1;33m=\u001b[0m\u001b[0mbuffered\u001b[0m\u001b[1;33m,\u001b[0m\u001b[1;33m\u001b[0m\u001b[1;33m\u001b[0m\u001b[0m\n",
      "\u001b[1;31mMySQLInterfaceError\u001b[0m: Data too long for column 'Car_name' at row 1",
      "\nDuring handling of the above exception, another exception occurred:\n",
      "\u001b[1;31mDataError\u001b[0m                                 Traceback (most recent call last)",
      "\u001b[1;32m~\\AppData\\Local\\Temp/ipykernel_4580/2098635545.py\u001b[0m in \u001b[0;36m<module>\u001b[1;34m\u001b[0m\n\u001b[0;32m      4\u001b[0m         \u001b[0mprint\u001b[0m\u001b[1;33m(\u001b[0m\u001b[0mi\u001b[0m\u001b[1;33m[\u001b[0m\u001b[1;36m0\u001b[0m\u001b[1;33m]\u001b[0m\u001b[1;33m)\u001b[0m\u001b[1;33m\u001b[0m\u001b[1;33m\u001b[0m\u001b[0m\n\u001b[0;32m      5\u001b[0m         \u001b[0mprint\u001b[0m\u001b[1;33m(\u001b[0m\u001b[1;34mf'car_datavalues1({str(i[0])})'\u001b[0m\u001b[1;33m)\u001b[0m\u001b[1;33m\u001b[0m\u001b[1;33m\u001b[0m\u001b[0m\n\u001b[1;32m----> 6\u001b[1;33m         \u001b[0mcursor\u001b[0m\u001b[1;33m.\u001b[0m\u001b[0mexecute\u001b[0m\u001b[1;33m(\u001b[0m\u001b[1;34m\"insert into wannacoder.car_data values (%s,%s,%s, %s, %s, %s, %s, %s, %s)\"\u001b[0m\u001b[1;33m,\u001b[0m\u001b[0mi\u001b[0m\u001b[1;33m[\u001b[0m\u001b[1;36m0\u001b[0m\u001b[1;33m]\u001b[0m\u001b[1;33m.\u001b[0m\u001b[0msplit\u001b[0m\u001b[1;33m(\u001b[0m\u001b[1;34m','\u001b[0m\u001b[1;33m)\u001b[0m \u001b[1;33m)\u001b[0m\u001b[1;33m\u001b[0m\u001b[1;33m\u001b[0m\u001b[0m\n\u001b[0m",
      "\u001b[1;32m~\\anaconda3\\lib\\site-packages\\mysql\\connector\\cursor_cext.py\u001b[0m in \u001b[0;36mexecute\u001b[1;34m(self, operation, params, multi)\u001b[0m\n\u001b[0;32m    267\u001b[0m \u001b[1;33m\u001b[0m\u001b[0m\n\u001b[0;32m    268\u001b[0m         \u001b[1;32mtry\u001b[0m\u001b[1;33m:\u001b[0m\u001b[1;33m\u001b[0m\u001b[1;33m\u001b[0m\u001b[0m\n\u001b[1;32m--> 269\u001b[1;33m             result = self._cnx.cmd_query(stmt, raw=self._raw,\n\u001b[0m\u001b[0;32m    270\u001b[0m                                          \u001b[0mbuffered\u001b[0m\u001b[1;33m=\u001b[0m\u001b[0mself\u001b[0m\u001b[1;33m.\u001b[0m\u001b[0m_buffered\u001b[0m\u001b[1;33m,\u001b[0m\u001b[1;33m\u001b[0m\u001b[1;33m\u001b[0m\u001b[0m\n\u001b[0;32m    271\u001b[0m                                          raw_as_string=self._raw_as_string)\n",
      "\u001b[1;32m~\\anaconda3\\lib\\site-packages\\mysql\\connector\\connection_cext.py\u001b[0m in \u001b[0;36mcmd_query\u001b[1;34m(self, query, raw, buffered, raw_as_string)\u001b[0m\n\u001b[0;32m    526\u001b[0m                                query_attrs=self._query_attrs)\n\u001b[0;32m    527\u001b[0m         \u001b[1;32mexcept\u001b[0m \u001b[0mMySQLInterfaceError\u001b[0m \u001b[1;32mas\u001b[0m \u001b[0mexc\u001b[0m\u001b[1;33m:\u001b[0m\u001b[1;33m\u001b[0m\u001b[1;33m\u001b[0m\u001b[0m\n\u001b[1;32m--> 528\u001b[1;33m             raise errors.get_mysql_exception(exc.errno, msg=exc.msg,\n\u001b[0m\u001b[0;32m    529\u001b[0m                                              sqlstate=exc.sqlstate)\n\u001b[0;32m    530\u001b[0m         \u001b[1;32mexcept\u001b[0m \u001b[0mAttributeError\u001b[0m\u001b[1;33m:\u001b[0m\u001b[1;33m\u001b[0m\u001b[1;33m\u001b[0m\u001b[0m\n",
      "\u001b[1;31mDataError\u001b[0m: 1406 (22001): Data too long for column 'Car_name' at row 1"
     ]
    }
   ],
   "source": [
    "with open('Downloads/car data.csv','r') as c:\n",
    "    car_data=csv.reader(c,delimiter='\\n')\n",
    "    for i in car_data:\n",
    "        print(i[0])\n",
    "        print(f'car_datavalues1({str(i[0])})')\n",
    "        cursor.execute(\"insert into wannacoder.car_data values (%s,%s,%s, %s, %s, %s, %s, %s, %s)\",i[0].split(',') )     "
   ]
  },
  {
   "cell_type": "code",
   "execution_count": null,
   "id": "4b15d5a9",
   "metadata": {},
   "outputs": [],
   "source": []
  }
 ],
 "metadata": {
  "kernelspec": {
   "display_name": "Python 3 (ipykernel)",
   "language": "python",
   "name": "python3"
  },
  "language_info": {
   "codemirror_mode": {
    "name": "ipython",
    "version": 3
   },
   "file_extension": ".py",
   "mimetype": "text/x-python",
   "name": "python",
   "nbconvert_exporter": "python",
   "pygments_lexer": "ipython3",
   "version": "3.9.7"
  }
 },
 "nbformat": 4,
 "nbformat_minor": 5
}
